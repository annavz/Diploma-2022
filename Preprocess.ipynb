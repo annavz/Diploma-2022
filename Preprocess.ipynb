{
 "cells": [
  {
   "cell_type": "code",
   "execution_count": 2,
   "metadata": {},
   "outputs": [
    {
     "name": "stderr",
     "output_type": "stream",
     "text": [
      "[nltk_data] Downloading package punkt to\n",
      "[nltk_data]     C:\\Users\\VADIK\\AppData\\Roaming\\nltk_data...\n",
      "[nltk_data]   Package punkt is already up-to-date!\n"
     ]
    }
   ],
   "source": [
    "import os\n",
    "from zipfile import ZipFile\n",
    "import re\n",
    "import pysrt\n",
    "import numpy as np\n",
    "import spacy\n",
    "from tqdm import tqdm\n",
    "import json\n",
    "# !python -m spacy download de_core_news_sm\n",
    "# !python -m spacy download ru_core_news_sm\n",
    "import nltk\n",
    "nltk.download('punkt')\n",
    "from nltk import sent_tokenize, word_tokenize\n",
    "import matplotlib.pyplot as plt\n",
    "import numpy as np"
   ]
  },
  {
   "cell_type": "code",
   "execution_count": 6,
   "metadata": {},
   "outputs": [],
   "source": [
    "data_path = './../../data/Diploma'\n",
    "films = list(os.walk(data_path))[0][1]"
   ]
  },
  {
   "cell_type": "code",
   "execution_count": 7,
   "metadata": {},
   "outputs": [],
   "source": [
    "films = [films[-1]]"
   ]
  },
  {
   "cell_type": "code",
   "execution_count": 9,
   "metadata": {},
   "outputs": [],
   "source": [
    "film_texts = []\n",
    "for film in films:\n",
    "    path = os.path.join(data_path, film, 'german_annotated')\n",
    "    files = list(os.walk(path))[0][2]\n",
    "    for file in files:\n",
    "        file_path = os.path.join(path, file)\n",
    "        try:\n",
    "            text = pysrt.open(file_path, encoding='utf-8')\n",
    "        except UnicodeDecodeError as e:\n",
    "            text = pysrt.open(file_path, encoding='latin-1')\n",
    "        film_texts.append(text)"
   ]
  },
  {
   "cell_type": "code",
   "execution_count": 10,
   "metadata": {},
   "outputs": [
    {
     "data": {
      "text/plain": [
       "1"
      ]
     },
     "execution_count": 10,
     "metadata": {},
     "output_type": "execute_result"
    }
   ],
   "source": [
    "len(film_texts)"
   ]
  },
  {
   "cell_type": "code",
   "execution_count": 11,
   "metadata": {},
   "outputs": [],
   "source": [
    "texts = []\n",
    "for film_text in film_texts:\n",
    "    text = ''\n",
    "    for saying in film_text:\n",
    "        if text != '':\n",
    "            text += ' ' + saying.text\n",
    "        else:\n",
    "            text += saying.text\n",
    "    texts.append(text)"
   ]
  },
  {
   "cell_type": "code",
   "execution_count": 12,
   "metadata": {},
   "outputs": [],
   "source": [
    "for num, text in enumerate(texts):\n",
    "    text = re.sub(r'NETFLIX PRÄSENTIERT EINE NETFLIX ORIGINAL SERIE', '', text)\n",
    "    text = re.sub(r'German SDH Subtitles by\\\\n<i>Untertitel</i>: Gelula/SDI', '', text)\n",
    "    text = re.sub(r'\\n', ' ', text)\n",
    "    text = re.sub(r'♪.+?♪', '', text)\n",
    "    text = re.sub(r'\\.\\.\\. \\.\\.\\.', ' ', text)\n",
    "    text = re.sub(r'<i>.+?</i>', '', text)\n",
    "    text = re.sub(r'\\(.+?\\)', '', text)\n",
    "    text = re.sub(r'\\[.+?\\]', '', text)\n",
    "    text = re.sub(r'{\\\\\\\\an8}', '', text)\n",
    "    text = re.sub(r'<.+?>', '', text)\n",
    "    text = re.sub(r'\\*.+?\\*', '', text)\n",
    "    text = re.sub(r'[A-Z ]+?:', '', text)\n",
    "    text = re.sub(r'\\s+', ' ', text)\n",
    "    texts[num] = text"
   ]
  },
  {
   "cell_type": "code",
   "execution_count": 13,
   "metadata": {},
   "outputs": [
    {
     "name": "stderr",
     "output_type": "stream",
     "text": [
      "100%|████████████████████████████████████████████████████████████████████████████████████| 1/1 [00:00<00:00,  1.68it/s]\n"
     ]
    }
   ],
   "source": [
    "data = []\n",
    "for text in tqdm(texts):\n",
    "    sents = sent_tokenize(text)\n",
    "    for num, sent in enumerate(sents):\n",
    "        sents[num] = re.sub('^(-)([A-Z])', '\\g<1> \\g<2>', sent)\n",
    "    # подставляем подходящий первый контекст\n",
    "    prev = [sents[0]]\n",
    "    sent_num = 2\n",
    "    token_num = 10\n",
    "    for num, sent in enumerate(sents):\n",
    "        # пропускаем первое предложение\n",
    "        if num == 0:\n",
    "            continue\n",
    "        prev_data = []\n",
    "        for prev_sent in prev[::-1]:\n",
    "            prev_token_num = 0\n",
    "            for prev_sent_data in prev_data:\n",
    "                sent_len = len(word_tokenize(prev_sent_data))\n",
    "                prev_token_num += sent_len\n",
    "            prev_sent_num = len(prev_data)\n",
    "            if (prev_token_num < token_num)or(prev_sent_num < sent_num):\n",
    "                  prev_data.append(prev_sent)\n",
    "        prev_data = prev_data[::-1]\n",
    "        data.append((prev_data, sent))\n",
    "        prev = prev_data + [sent]"
   ]
  },
  {
   "cell_type": "code",
   "execution_count": 14,
   "metadata": {},
   "outputs": [
    {
     "name": "stderr",
     "output_type": "stream",
     "text": [
      "100%|████████████████████████████████████████████████████████████████████████████| 1859/1859 [00:00<00:00, 9328.49it/s]\n"
     ]
    }
   ],
   "source": [
    "tokens = 0\n",
    "sentences = 0\n",
    "dfs = []\n",
    "Bs = 0\n",
    "Is = 0\n",
    "Os = 0\n",
    "for prev, sent in tqdm(data):\n",
    "    words = word_tokenize(sent)\n",
    "    for word in words:\n",
    "        if word.endswith('-B'):\n",
    "            Bs += 1\n",
    "        elif word.endswith('-I'):\n",
    "            Is += 1\n",
    "        else:\n",
    "            Os += 1\n",
    "    tokens += len(words)\n",
    "    sentences += len(sent_tokenize(sent))\n",
    "    dfs_num = re.findall('[a-z]-B[^a-z]', sent)\n",
    "    dfs += dfs_num"
   ]
  },
  {
   "cell_type": "code",
   "execution_count": 15,
   "metadata": {},
   "outputs": [
    {
     "name": "stdout",
     "output_type": "stream",
     "text": [
      "12684 1859 0\n"
     ]
    }
   ],
   "source": [
    "print(tokens, sentences, len(dfs))"
   ]
  },
  {
   "cell_type": "code",
   "execution_count": 10,
   "metadata": {},
   "outputs": [
    {
     "name": "stdout",
     "output_type": "stream",
     "text": [
      "959 1333 552911\n"
     ]
    }
   ],
   "source": [
    "print(Bs, Is, Os)"
   ]
  },
  {
   "cell_type": "code",
   "execution_count": 16,
   "metadata": {},
   "outputs": [],
   "source": [
    "with open('testing_model.json', 'w', encoding='utf-8') as f:\n",
    "    f.write(json.dumps(data, ensure_ascii=False))"
   ]
  },
  {
   "cell_type": "code",
   "execution_count": null,
   "metadata": {},
   "outputs": [],
   "source": []
  }
 ],
 "metadata": {
  "kernelspec": {
   "display_name": "Python 3",
   "language": "python",
   "name": "python3"
  },
  "language_info": {
   "codemirror_mode": {
    "name": "ipython",
    "version": 3
   },
   "file_extension": ".py",
   "mimetype": "text/x-python",
   "name": "python",
   "nbconvert_exporter": "python",
   "pygments_lexer": "ipython3",
   "version": "3.8.3"
  },
  "varInspector": {
   "cols": {
    "lenName": 16,
    "lenType": 16,
    "lenVar": 40
   },
   "kernels_config": {
    "python": {
     "delete_cmd_postfix": "",
     "delete_cmd_prefix": "del ",
     "library": "var_list.py",
     "varRefreshCmd": "print(var_dic_list())"
    },
    "r": {
     "delete_cmd_postfix": ") ",
     "delete_cmd_prefix": "rm(",
     "library": "var_list.r",
     "varRefreshCmd": "cat(var_dic_list()) "
    }
   },
   "types_to_exclude": [
    "module",
    "function",
    "builtin_function_or_method",
    "instance",
    "_Feature"
   ],
   "window_display": false
  }
 },
 "nbformat": 4,
 "nbformat_minor": 4
}
